{
 "cells": [
  {
   "cell_type": "markdown",
   "id": "dcd9d274",
   "metadata": {},
   "source": [
    "### Extract PMID List from Spreadsheet\n",
    "\n",
    "Notes:\n",
    "\n",
    "* Emily will provide a spreadsheet of PMIDS\n",
    "\n",
    "Possible Approach:\n",
    "\n",
    "* Parse CSV with pandas\n",
    "* Rejoice in the simplicity of pandas"
   ]
  },
  {
   "cell_type": "markdown",
   "id": "b7b64a00",
   "metadata": {},
   "source": [
    "### Extract Publication Data from Pubmed and/or PMC\n",
    "\n",
    "* https://pubmed.ncbi.nlm.nih.gov/\n",
    "* https://www.ncbi.nlm.nih.gov/pmc/\n",
    "\n",
    "Notes:\n",
    "\n",
    "* Citations are not necessarily present in both systems.\n",
    "* PMIDs can exist in both systems so we may need to figure out where there is overlap.\n",
    "\n",
    "Possible Approach:\n",
    "\n",
    "* Build a pandas dataframe.  Each row contains a PMID, a link to the raw data if possible, and flags to indicate whether or not the publication is behind a paywall or only available in PDF format.\n",
    "    * We can develop logic to decide if a publication has scrapable text.  Maybe by looking at the full text links and seeing if they contain a PMC link or by looking at the extension of linked text to see if it's PDF.  There are many possibilites.  \n",
    "* Starting with non-PDFs, develop an approach to extract the text from Pubmed.  We can probably avoid using Selenium as that's really more if you have to log in to a system.  With Pubmed, once we have a URL to the data we can use Beautiful Soup to extract.  \n",
    "    * Take https://pubmed.ncbi.nlm.nih.gov/34603333/ as an example, the text is available via a link on that page to https://www.ncbi.nlm.nih.gov/pmc/articles/PMC8481571/.  \n",
    "    "
   ]
  },
  {
   "cell_type": "markdown",
   "id": "85aad9d2",
   "metadata": {},
   "source": [
    "### Extract Genbank, SRA, GEO, and PDB accession numbers\n",
    "\n",
    "Notes:\n",
    "\n",
    "* Discover the format of the various accession numbers.  How can we best identify them in a publication?  Do we search for words like PDB or is the format of the accession enough to differentiate it from random text?\n",
    "\n",
    "Possible Approach:\n",
    "\n",
    "* Develop a set of rules to decide how to extract accession identifiers\n",
    "* Apply those rules to the Pubmed data scraped above.  Tools like `spacy` can help tokenize large bodies of text and even do things like string matching.  \n",
    "* Store all accession numbers in some type of data structure.  Because we're potentially collecting many values, it might be helpful to store data in a dictionary or JSON structure.  We (DIFZ) use unstructured data stores for a lot of our work.\n"
   ]
  },
  {
   "cell_type": "markdown",
   "id": "5e7ae44b",
   "metadata": {},
   "source": [
    "### Extract Strains\n",
    "\n",
    "Extend **Extract Genbank, SRA, GEO, and PDB accession numbers** to work on Strain Names"
   ]
  },
  {
   "cell_type": "markdown",
   "id": "75c49203",
   "metadata": {},
   "source": [
    "### Extract Other?\n",
    "\n",
    "Are there other types of data you think might be worth extracting from the text?"
   ]
  },
  {
   "cell_type": "markdown",
   "id": "4b8af647",
   "metadata": {},
   "source": [
    "## Outputs\n",
    "\n",
    "* % of publications with open-access text\n",
    "* How to handle PDFs vs Websites?  Could be a simple write up, could be code\n",
    "* Extraction of Accessions\n",
    "* Extraction fo Strains (time permitting)"
   ]
  },
  {
   "cell_type": "markdown",
   "id": "1b84ceb8",
   "metadata": {},
   "source": [
    "## Results and Conclusions\n",
    "\n",
    "This is where we need your input.  What makes the most sense for your time at DIFZ?  For example writing out the overall approach, steps, output, next steps, and challenges (e.g. open vs. close access, pdf vs web scraping).  "
   ]
  },
  {
   "cell_type": "code",
   "execution_count": null,
   "id": "cc8f4849",
   "metadata": {},
   "outputs": [],
   "source": []
  }
 ],
 "metadata": {
  "jupytext": {
   "formats": "ipynb,md"
  },
  "kernelspec": {
   "display_name": "Training",
   "language": "python",
   "name": "training"
  },
  "language_info": {
   "codemirror_mode": {
    "name": "ipython",
    "version": 3
   },
   "file_extension": ".py",
   "mimetype": "text/x-python",
   "name": "python",
   "nbconvert_exporter": "python",
   "pygments_lexer": "ipython3",
   "version": "3.9.12"
  }
 },
 "nbformat": 4,
 "nbformat_minor": 5
}
