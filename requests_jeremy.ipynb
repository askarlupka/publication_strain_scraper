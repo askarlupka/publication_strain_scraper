{
 "cells": [
  {
   "cell_type": "code",
   "execution_count": 16,
   "id": "910cd1b0-a133-4dc5-90b6-c797df81c3d4",
   "metadata": {},
   "outputs": [],
   "source": [
    "import requests\n",
    "import xml.etree.ElementTree as ET"
   ]
  },
  {
   "cell_type": "code",
   "execution_count": 17,
   "id": "828eae39-2aba-4242-96b1-c22e0c260bf4",
   "metadata": {},
   "outputs": [],
   "source": [
    "# Getting a website using requests\n",
    "response = requests.get(\"https://eutils.ncbi.nlm.nih.gov/entrez/eutils/esearch.fcgi?db=pubmed&term=science%5bjournal%5d+AND+breast+cancer+AND+2008%5bpdat%5d\")"
   ]
  },
  {
   "cell_type": "code",
   "execution_count": 18,
   "id": "f54b91ee-7f0e-4996-b5d8-a42e3313e4d2",
   "metadata": {},
   "outputs": [
    {
     "data": {
      "text/plain": [
       "200"
      ]
     },
     "execution_count": 18,
     "metadata": {},
     "output_type": "execute_result"
    }
   ],
   "source": [
    "# The response status code.  If it's 200, SUCCESS!  If it's not 200, SADNESS.\n",
    "response.status_code"
   ]
  },
  {
   "cell_type": "code",
   "execution_count": 19,
   "id": "64b090e4-02c0-4941-8d33-76903af3883f",
   "metadata": {},
   "outputs": [
    {
     "data": {
      "text/plain": [
       "'<?xml version=\"1.0\" encoding=\"UTF-8\" ?>\\n<!DOCTYPE eSearchResult PUBLIC \"-//NLM//DTD esearch 20060628//EN\" \"https://eutils.ncbi.nlm.nih.gov/eutils/dtd/20060628/esearch.dtd\">\\n<eSearchResult><Count>6</Count><RetMax>6</RetMax><RetStart>0</RetStart><IdList>\\n<Id>19008416</Id>\\n<Id>18927361</Id>\\n<Id>18787170</Id>\\n<Id>18487186</Id>\\n<Id>18239126</Id>\\n<Id>18239125</Id>\\n</IdList><TranslationSet><Translation>     <From>science[journal]</From>     <To>\"Science\"[Journal] OR \"Science (1979)\"[Journal]</To>    </Translation><Translation>     <From>breast cancer</From>     <To>\"breast neoplasms\"[MeSH Terms] OR (\"breast\"[All Fields] AND \"neoplasms\"[All Fields]) OR \"breast neoplasms\"[All Fields] OR (\"breast\"[All Fields] AND \"cancer\"[All Fields]) OR \"breast cancer\"[All Fields]</To>    </Translation></TranslationSet><TranslationStack>   <TermSet>    <Term>\"Science\"[Journal]</Term>    <Field>Journal</Field>    <Count>181208</Count>    <Explode>N</Explode>   </TermSet>   <TermSet>    <Term>\"Science (1979)\"[Journal]</Term>    <Field>Journal</Field>    <Count>10</Count>    <Explode>N</Explode>   </TermSet>   <OP>OR</OP>   <OP>GROUP</OP>   <TermSet>    <Term>\"breast neoplasms\"[MeSH Terms]</Term>    <Field>MeSH Terms</Field>    <Count>327036</Count>    <Explode>Y</Explode>   </TermSet>   <TermSet>    <Term>\"breast\"[All Fields]</Term>    <Field>All Fields</Field>    <Count>576621</Count>    <Explode>N</Explode>   </TermSet>   <TermSet>    <Term>\"neoplasms\"[All Fields]</Term>    <Field>All Fields</Field>    <Count>2974753</Count>    <Explode>N</Explode>   </TermSet>   <OP>AND</OP>   <OP>GROUP</OP>   <OP>OR</OP>   <TermSet>    <Term>\"breast neoplasms\"[All Fields]</Term>    <Field>All Fields</Field>    <Count>327734</Count>    <Explode>N</Explode>   </TermSet>   <OP>OR</OP>   <TermSet>    <Term>\"breast\"[All Fields]</Term>    <Field>All Fields</Field>    <Count>576621</Count>    <Explode>N</Explode>   </TermSet>   <TermSet>    <Term>\"cancer\"[All Fields]</Term>    <Field>All Fields</Field>    <Count>2687578</Count>    <Explode>N</Explode>   </TermSet>   <OP>AND</OP>   <OP>GROUP</OP>   <OP>OR</OP>   <TermSet>    <Term>\"breast cancer\"[All Fields]</Term>    <Field>All Fields</Field>    <Count>317767</Count>    <Explode>N</Explode>   </TermSet>   <OP>OR</OP>   <OP>GROUP</OP>   <OP>AND</OP>   <TermSet>    <Term>2008[pdat]</Term>    <Field>pdat</Field>    <Count>837075</Count>    <Explode>N</Explode>   </TermSet>   <OP>AND</OP>  </TranslationStack><QueryTranslation>(\"Science\"[Journal] OR \"Science (1979)\"[Journal]) AND (\"breast neoplasms\"[MeSH Terms] OR (\"breast\"[All Fields] AND \"neoplasms\"[All Fields]) OR \"breast neoplasms\"[All Fields] OR (\"breast\"[All Fields] AND \"cancer\"[All Fields]) OR \"breast cancer\"[All Fields]) AND 2008[pdat]</QueryTranslation></eSearchResult>\\n'"
      ]
     },
     "execution_count": 19,
     "metadata": {},
     "output_type": "execute_result"
    }
   ],
   "source": [
    "# Here's how you get the text of your response\n",
    "response.text"
   ]
  },
  {
   "cell_type": "code",
   "execution_count": 22,
   "id": "3a63d105-bf9f-46d3-8338-13c9a51522ee",
   "metadata": {},
   "outputs": [],
   "source": [
    "# if the data are in XML format you can use Python's XML parser to get access\n",
    "# to the data like so\n",
    "root = ET.fromstring(response.text)"
   ]
  },
  {
   "cell_type": "code",
   "execution_count": 28,
   "id": "6c958515-9378-4525-b28e-3dbf6e547f5d",
   "metadata": {},
   "outputs": [
    {
     "name": "stdout",
     "output_type": "stream",
     "text": [
      "<Element 'Count' at 0x7f37e538fe00> 6\n",
      "<Element 'RetMax' at 0x7f37e538fe50> 6\n",
      "<Element 'RetStart' at 0x7f37e538fea0> 0\n",
      "<Element 'IdList' at 0x7f37e538fef0> \n",
      "\n",
      "<Element 'TranslationSet' at 0x7f37e53aa220> None\n",
      "<Element 'TranslationStack' at 0x7f37e53aa630>    \n",
      "<Element 'QueryTranslation' at 0x7f37e53b5f90> (\"Science\"[Journal] OR \"Science (1979)\"[Journal]) AND (\"breast neoplasms\"[MeSH Terms] OR (\"breast\"[All Fields] AND \"neoplasms\"[All Fields]) OR \"breast neoplasms\"[All Fields] OR (\"breast\"[All Fields] AND \"cancer\"[All Fields]) OR \"breast cancer\"[All Fields]) AND 2008[pdat]\n"
     ]
    }
   ],
   "source": [
    "# XML is hierarchical so if you open that link above in your browser you should\n",
    "# see the following elements (run this code block) at the top of the tree under `<eSearchResult>`\n",
    "for child in root:\n",
    "    print(child,child.text)"
   ]
  },
  {
   "cell_type": "code",
   "execution_count": 31,
   "id": "f1fc305d-73fd-48cf-9725-bb5720b69b8e",
   "metadata": {},
   "outputs": [
    {
     "name": "stdout",
     "output_type": "stream",
     "text": [
      "<Element 'Count' at 0x7f37e538fe00>\n",
      "<Element 'RetMax' at 0x7f37e538fe50>\n",
      "<Element 'RetStart' at 0x7f37e538fea0>\n",
      "<Element 'IdList' at 0x7f37e538fef0>\n",
      "  -  <Element 'Id' at 0x7f37e538ff40> 19008416\n",
      "  -  <Element 'Id' at 0x7f37e538ff90> 18927361\n",
      "  -  <Element 'Id' at 0x7f37e53aa090> 18787170\n",
      "  -  <Element 'Id' at 0x7f37e53aa0e0> 18487186\n",
      "  -  <Element 'Id' at 0x7f37e53aa130> 18239126\n",
      "  -  <Element 'Id' at 0x7f37e53aa180> 18239125\n",
      "<Element 'TranslationSet' at 0x7f37e53aa220>\n",
      "  -  <Element 'Translation' at 0x7f37e53aa270>      \n",
      "  -  <Element 'Translation' at 0x7f37e53aa400>      \n",
      "<Element 'TranslationStack' at 0x7f37e53aa630>\n",
      "  -  <Element 'TermSet' at 0x7f37e53aa680>     \n",
      "  -  <Element 'TermSet' at 0x7f37e53aa810>     \n",
      "  -  <Element 'OP' at 0x7f37e53aaa40> OR\n",
      "  -  <Element 'OP' at 0x7f37e53aaa90> GROUP\n",
      "  -  <Element 'TermSet' at 0x7f37e53aaae0>     \n",
      "  -  <Element 'TermSet' at 0x7f37e53aacc0>     \n",
      "  -  <Element 'TermSet' at 0x7f37e53aaf90>     \n",
      "  -  <Element 'OP' at 0x7f37e53b51d0> AND\n",
      "  -  <Element 'OP' at 0x7f37e53b5220> GROUP\n",
      "  -  <Element 'OP' at 0x7f37e53b5270> OR\n",
      "  -  <Element 'TermSet' at 0x7f37e53b52c0>     \n",
      "  -  <Element 'OP' at 0x7f37e53b54a0> OR\n",
      "  -  <Element 'TermSet' at 0x7f37e53b54f0>     \n",
      "  -  <Element 'TermSet' at 0x7f37e53b5810>     \n",
      "  -  <Element 'OP' at 0x7f37e53b59a0> AND\n",
      "  -  <Element 'OP' at 0x7f37e53b59f0> GROUP\n",
      "  -  <Element 'OP' at 0x7f37e53b5a40> OR\n",
      "  -  <Element 'TermSet' at 0x7f37e53b5a90>     \n",
      "  -  <Element 'OP' at 0x7f37e53b5c70> OR\n",
      "  -  <Element 'OP' at 0x7f37e53b5cc0> GROUP\n",
      "  -  <Element 'OP' at 0x7f37e53b5d10> AND\n",
      "  -  <Element 'TermSet' at 0x7f37e53b5d60>     \n",
      "  -  <Element 'OP' at 0x7f37e53b5ef0> AND\n",
      "<Element 'QueryTranslation' at 0x7f37e53b5f90>\n"
     ]
    }
   ],
   "source": [
    "# You can get access to nested values like so:\n",
    "for child in root:\n",
    "    print(child)\n",
    "    for grand_child in child:\n",
    "        print(\"  - \",grand_child,grand_child.text)"
   ]
  },
  {
   "cell_type": "code",
   "execution_count": null,
   "id": "f856be74-a9c7-435e-96d2-e04fe53b306c",
   "metadata": {},
   "outputs": [],
   "source": []
  }
 ],
 "metadata": {
  "kernelspec": {
   "display_name": "Training",
   "language": "python",
   "name": "training"
  },
  "language_info": {
   "codemirror_mode": {
    "name": "ipython",
    "version": 3
   },
   "file_extension": ".py",
   "mimetype": "text/x-python",
   "name": "python",
   "nbconvert_exporter": "python",
   "pygments_lexer": "ipython3",
   "version": "3.9.12"
  }
 },
 "nbformat": 4,
 "nbformat_minor": 5
}
